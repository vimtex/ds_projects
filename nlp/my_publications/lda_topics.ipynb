{
 "cells": [
  {
   "cell_type": "code",
   "execution_count": 1,
   "metadata": {
    "ExecuteTime": {
     "end_time": "2019-11-08T23:29:31.240533Z",
     "start_time": "2019-11-08T23:29:29.974893Z"
    }
   },
   "outputs": [],
   "source": [
    "import matplotlib.pyplot as plt\n",
    "import numpy as np\n",
    "\n",
    "from pdf import PdfConverter\n",
    "import textract\n",
    "\n",
    "import glob\n",
    "import nltk\n",
    "import gensim\n",
    "\n",
    "#nltk.download('punkt')\n",
    "#nltk.download('stopwords')\n",
    "#nltk.download('wordnet')\n",
    "#nltk.download() # for all\n",
    "\n",
    "from nltk.stem import PorterStemmer, WordNetLemmatizer, SnowballStemmer\n",
    "from nltk.stem.porter import *\n",
    "from nltk.tokenize import word_tokenize, sent_tokenize\n",
    "from nltk.corpus import stopwords\n",
    "from nltk.tokenize import RegexpTokenizer\n",
    "\n",
    "from gensim.utils import simple_preprocess\n",
    "from gensim.parsing.preprocessing import STOPWORDS\n",
    "import numpy as np"
   ]
  },
  {
   "cell_type": "code",
   "execution_count": null,
   "metadata": {
    "ExecuteTime": {
     "start_time": "2019-11-08T23:29:30.615Z"
    }
   },
   "outputs": [],
   "source": [
    "data = []\n",
    "\n",
    "excludes_pre = \"introduction abstract\".split()\n",
    "excludes_post = \"acknowledge references bibliography\".split()\n",
    "\n",
    "regtoken = RegexpTokenizer(r'[a-z]\\w{3,}') # at least of length four, starting with letter (no pure number)\n",
    "\n",
    "stop_words = set(stopwords.words('english'))\n",
    "stop_words.update({'et', 'al', 'fig', 'ref', 'tab'})\n",
    "\n",
    "for path in sorted(glob.glob('my_pub/*.pdf')):\n",
    "  try:\n",
    "    pdf = PdfConverter(file_path=path)\n",
    "    doc = pdf.extractTxt()\n",
    "  except:\n",
    "    doc = textract.process(path, method='pdfminer').decode()\n",
    "\n",
    "  doc = doc.lower()\n",
    "  doc = re.sub('\\s{0,}-\\s{0,}', '', doc)  # hyphen\n",
    "    \n",
    "  idx = 0\n",
    "  for ex in excludes_pre:\n",
    "    try:\n",
    "       idx = max(doc.index(ex), idx)\n",
    "    except:\n",
    "      pass\n",
    "  doc = doc[idx:]\n",
    "  \n",
    "  idx = len(doc)\n",
    "  for ex in excludes_post:\n",
    "    try:\n",
    "       idx = min(doc.index(ex), idx)\n",
    "    except:\n",
    "      pass\n",
    "\n",
    "  words = regtoken.tokenize(doc[:idx])   \n",
    "  words = [w for w in words if not w in stop_words ]\n",
    "  data.append(words)"
   ]
  },
  {
   "cell_type": "code",
   "execution_count": null,
   "metadata": {
    "ExecuteTime": {
     "start_time": "2019-11-08T23:29:31.623Z"
    }
   },
   "outputs": [],
   "source": [
    "import pickle\n",
    "pickle.dump(data, open('data_0.pkl', 'wb'))\n",
    "            \n",
    "porter = PorterStemmer()\n",
    "data = [ [porter.stem(w) for w in doc] for doc in data ]"
   ]
  },
  {
   "cell_type": "code",
   "execution_count": null,
   "metadata": {
    "ExecuteTime": {
     "start_time": "2019-11-08T23:29:41.960Z"
    }
   },
   "outputs": [],
   "source": [
    "from gensim import models, corpora\n",
    "\n",
    "NUM_TOPICS = 7\n",
    "\n",
    "# Build a Dictionary - association word to numeric id\n",
    "dictionary = corpora.Dictionary(data)\n",
    " \n",
    "# Transform the collection of texts to a numerical form\n",
    "corpus = [dictionary.doc2bow(doc) for doc in data]\n",
    " \n",
    "# Have a look at how the first document looks like: [(word_id, count), ...]\n",
    "#print(corpus[0])\n",
    "#[(0, 3), (1, 1), (2, 1), (3, 1), (4, 3), (5, 1), (6, 6), (7, 1), ... \n",
    "\n",
    "# Build the LDA model\n",
    "lda_model = models.LdaModel(corpus=corpus, num_topics=NUM_TOPICS, id2word=dictionary)\n",
    "\n",
    "# Build the LSI model\n",
    "lsi_model = models.LsiModel(corpus=corpus, num_topics=NUM_TOPICS, id2word=dictionary)\n",
    "\n",
    "print(\"LDA Model:\")\n",
    " \n",
    "for idx in range(NUM_TOPICS):\n",
    "    # Print the first 10 most representative topics\n",
    "    print(\"Topic #%s:\" % idx, lda_model.print_topic(idx, 10))\n",
    " \n",
    "print(\"=\" * 20)\n",
    " \n",
    "print(\"LSI Model:\")\n",
    " \n",
    "for idx in range(NUM_TOPICS):\n",
    "    # Print the first 10 most representative topics\n",
    "    print(\"Topic #%s:\" % idx, lsi_model.print_topic(idx, 10))\n",
    " \n",
    "print(\"=\" * 20)"
   ]
  }
 ],
 "metadata": {
  "kernelspec": {
   "display_name": "Python 3",
   "language": "python",
   "name": "python3"
  },
  "language_info": {
   "codemirror_mode": {
    "name": "ipython",
    "version": 3
   },
   "file_extension": ".py",
   "mimetype": "text/x-python",
   "name": "python",
   "nbconvert_exporter": "python",
   "pygments_lexer": "ipython3",
   "version": "3.6.8"
  }
 },
 "nbformat": 4,
 "nbformat_minor": 2
}
